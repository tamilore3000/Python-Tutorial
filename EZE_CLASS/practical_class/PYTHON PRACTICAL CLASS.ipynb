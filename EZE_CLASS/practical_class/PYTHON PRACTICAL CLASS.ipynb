{
 "cells": [
  {
   "cell_type": "code",
   "execution_count": 1,
   "id": "9c9e543e",
   "metadata": {},
   "outputs": [
    {
     "name": "stdout",
     "output_type": "stream",
     "text": [
      "['Jan.31', 'Feb.28', 'Mar.31', 'Apr.30', 'May.31', 'Jun.30', 'Jul.31', 'Aug.31', 'Sep.30', 'Oct.31', 'Nov.30', 'Dec.31']\n"
     ]
    }
   ],
   "source": [
    "# Here's an example program that uses **kwargs to generate the desired list of concatenations:\n",
    "\n",
    "def concat_months(**kwargs):\n",
    "    months = kwargs.get('months')\n",
    "    days = kwargs.get('days')\n",
    "    #concatenated = [f\"{month}.{day}\" for month, day in zip(months, days)]\n",
    "    concatenated = [f\"{months[i]}.{days[i]}\" for i in range(len(months))]\n",
    "    return concatenated\n",
    "\n",
    "A = [\"Jan\", \"Feb\", \"Mar\", \"Apr\", \"May\", \"Jun\", \"Jul\", \"Aug\", \"Sep\", \"Oct\", \"Nov\", \"Dec\"]\n",
    "B = [31, 28, 31, 30, 31, 30, 31, 31, 30, 31, 30, 31]\n",
    "\n",
    "X = concat_months(months=A, days=B)\n",
    "print(X)"
   ]
  },
  {
   "cell_type": "code",
   "execution_count": 6,
   "id": "6ecc2a97",
   "metadata": {},
   "outputs": [
    {
     "name": "stdout",
     "output_type": "stream",
     "text": [
      "Requirement already satisfied: pandas in c:\\users\\tamilore\\anaconda3\\lib\\site-packages (1.5.3)\n",
      "Requirement already satisfied: pytz>=2020.1 in c:\\users\\tamilore\\anaconda3\\lib\\site-packages (from pandas) (2022.7)\n",
      "Requirement already satisfied: python-dateutil>=2.8.1 in c:\\users\\tamilore\\anaconda3\\lib\\site-packages (from pandas) (2.8.2)\n",
      "Requirement already satisfied: numpy>=1.21.0 in c:\\users\\tamilore\\anaconda3\\lib\\site-packages (from pandas) (1.23.5)\n",
      "Requirement already satisfied: six>=1.5 in c:\\users\\tamilore\\anaconda3\\lib\\site-packages (from python-dateutil>=2.8.1->pandas) (1.16.0)\n"
     ]
    }
   ],
   "source": [
    "!pip install pandas\n"
   ]
  },
  {
   "cell_type": "code",
   "execution_count": 2,
   "id": "149788c7",
   "metadata": {},
   "outputs": [
    {
     "name": "stdout",
     "output_type": "stream",
     "text": [
      "['Jan.31', 'Feb.28', 'Mar.31', 'Apr.30', 'May.31', 'Jun.30', 'Jul.31', 'Aug.31', 'Sep.30', 'Oct.31', 'Nov.30', 'Dec.31']\n"
     ]
    }
   ],
   "source": [
    "A = [\"Jan\", \"Feb\", \"Mar\", \"Apr\", \"May\", \"Jun\", \"Jul\", \"Aug\", \"Sep\", \"Oct\", \"Nov\", \"Dec\"]\n",
    "B = [31, 28, 31, 30, 31, 30, 31, 31, 30, 31, 30, 31]\n",
    "\n",
    "X = [f\"{month}.{day}\" for month, day in zip(A, B)]\n",
    "print(X)"
   ]
  },
  {
   "cell_type": "code",
   "execution_count": 8,
   "id": "5f9155a3",
   "metadata": {},
   "outputs": [
    {
     "name": "stdout",
     "output_type": "stream",
     "text": [
      "Collecting pybluez\n",
      "  Using cached PyBluez-0.23.tar.gz (97 kB)\n",
      "  Preparing metadata (setup.py): started\n",
      "  Preparing metadata (setup.py): finished with status 'error'\n"
     ]
    },
    {
     "name": "stderr",
     "output_type": "stream",
     "text": [
      "  error: subprocess-exited-with-error\n",
      "  \n",
      "  python setup.py egg_info did not run successfully.\n",
      "  exit code: 1\n",
      "  \n",
      "  [1 lines of output]\n",
      "  error in PyBluez setup command: use_2to3 is invalid.\n",
      "  [end of output]\n",
      "  \n",
      "  note: This error originates from a subprocess, and is likely not a problem with pip.\n",
      "error: metadata-generation-failed\n",
      "\n",
      "Encountered error while generating package metadata.\n",
      "\n",
      "See above for output.\n",
      "\n",
      "note: This is an issue with the package mentioned above, not pip.\n",
      "hint: See above for details.\n"
     ]
    }
   ],
   "source": [
    "!pip install pybluez\n"
   ]
  },
  {
   "cell_type": "code",
   "execution_count": 3,
   "id": "6b16c043",
   "metadata": {},
   "outputs": [
    {
     "name": "stdout",
     "output_type": "stream",
     "text": [
      "Total area: 178.53981633974485\n"
     ]
    }
   ],
   "source": [
    "import math\n",
    "\n",
    "def calculate_total_area():\n",
    "    square_area = 10**2\n",
    "    circle_radius = 10 / 2\n",
    "    circle_area = math.pi * circle_radius**2\n",
    "    total_area = square_area + circle_area\n",
    "    return total_area\n",
    "\n",
    "total_area = calculate_total_area()\n",
    "print(\"Total area:\", total_area)\n"
   ]
  },
  {
   "cell_type": "code",
   "execution_count": 4,
   "id": "0dc468c9",
   "metadata": {},
   "outputs": [
    {
     "name": "stdout",
     "output_type": "stream",
     "text": [
      "[54, 90, 78, 3, 36, 81, 71, 66, 25, 100]\n"
     ]
    }
   ],
   "source": [
    "T = [100, 25, 66, 71, 81, 36, 3, 78, 90, 54]\n",
    "\n",
    "reverse_lambda = lambda x: x[::-1]\n",
    "\n",
    "reversed_T = reverse_lambda(T)\n",
    "print(reversed_T)\n"
   ]
  },
  {
   "cell_type": "code",
   "execution_count": 5,
   "id": "bb885202",
   "metadata": {},
   "outputs": [
    {
     "name": "stdout",
     "output_type": "stream",
     "text": [
      "A: [25, 71, 81, 3]\n",
      "B: [100, 66, 36, 78, 90, 54]\n",
      "C: [100, 25, 81, 36]\n"
     ]
    }
   ],
   "source": [
    "import math\n",
    "\n",
    "def SieveNow(T):\n",
    "    A = []\n",
    "    B = []\n",
    "    C = []\n",
    "    for num in T:\n",
    "        if num % 2 == 1:\n",
    "            A.append(num)\n",
    "        elif num % 2 == 0:\n",
    "            B.append(num)\n",
    "        if math.sqrt(num).is_integer():\n",
    "            C.append(num)\n",
    "    return A, B, C\n",
    "\n",
    "T = [100, 25, 66, 71, 81, 36, 3, 78, 90, 54]\n",
    "A, B, C = SieveNow(T)\n",
    "print(\"A:\", A)\n",
    "print(\"B:\", B)\n",
    "print(\"C:\", C)\n"
   ]
  },
  {
   "cell_type": "code",
   "execution_count": null,
   "id": "f1a2a60b",
   "metadata": {},
   "outputs": [],
   "source": []
  }
 ],
 "metadata": {
  "kernelspec": {
   "display_name": "Python 3 (ipykernel)",
   "language": "python",
   "name": "python3"
  },
  "language_info": {
   "codemirror_mode": {
    "name": "ipython",
    "version": 3
   },
   "file_extension": ".py",
   "mimetype": "text/x-python",
   "name": "python",
   "nbconvert_exporter": "python",
   "pygments_lexer": "ipython3",
   "version": "3.10.9"
  }
 },
 "nbformat": 4,
 "nbformat_minor": 5
}
